{
  "cells": [
    {
      "cell_type": "markdown",
      "source": [
        "# Disease detection from Chest X-Ray"
      ],
      "metadata": {
        "id": "mJsVTT1_Vp4O"
      }
    },
    {
      "cell_type": "markdown",
      "source": [
        "## Project Goal:\n",
        "\n",
        "Build a deep learning model that can classify chest X-ray images as either Normal or Pneumonia, helping demonstrate how AI can support medical diagnosis.\n",
        "\n",
        "📦 Dataset:\n",
        "\n",
        "Chest X-Ray Images (Pneumonia) - Kaggle: https://www.kaggle.com/datasets/paultimothymooney/chest-xray-pneumonia\n",
        "\n",
        "\n",
        "\n",
        "\n",
        "\n",
        "- 5,863 total images across training, test, and validation folders\n",
        "\n",
        "\n",
        "\n",
        "- Two classes: NORMAL, PNEUMONIA"
      ],
      "metadata": {
        "id": "WgTziwsFVx3Q"
      }
    },
    {
      "cell_type": "code",
      "execution_count": null,
      "metadata": {
        "id": "g7vUuPBiSpPq"
      },
      "outputs": [],
      "source": [
        "import tensorflow as tf\n",
        "\n",
        "from tensorflow.keras import datasets, layers, models\n",
        "import matplotlib.pyplot as plt"
      ]
    }
  ],
  "metadata": {
    "kernelspec": {
      "display_name": "venv",
      "language": "python",
      "name": "python3"
    },
    "language_info": {
      "name": "python",
      "version": "3.13.5"
    },
    "colab": {
      "provenance": []
    }
  },
  "nbformat": 4,
  "nbformat_minor": 0
}