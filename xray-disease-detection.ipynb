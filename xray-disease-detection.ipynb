{
  "cells": [
    {
      "cell_type": "markdown",
      "source": [
        "# Disease detection from Chest X-Ray"
      ],
      "metadata": {
        "id": "mJsVTT1_Vp4O"
      }
    },
    {
      "cell_type": "markdown",
      "source": [
        "## Project Goal:\n",
        "\n",
        "Build a deep learning model that can classify chest X-ray images as either Normal or Pneumonia, helping demonstrate how AI can support medical diagnosis.\n",
        "\n",
        "📦 Dataset:\n",
        "\n",
        "Chest X-Ray Images (Pneumonia) - Kaggle: https://www.kaggle.com/datasets/paultimothymooney/chest-xray-pneumonia\n",
        "\n",
        "\n",
        "\n",
        "\n",
        "\n",
        "- 5,863 total images across training, test, and validation folders\n",
        "\n",
        "\n",
        "\n",
        "- Two classes: NORMAL, PNEUMONIA"
      ],
      "metadata": {
        "id": "WgTziwsFVx3Q"
      }
    },
    {
      "cell_type": "code",
      "execution_count": 4,
      "metadata": {
        "id": "g7vUuPBiSpPq"
      },
      "outputs": [],
      "source": [
        "import tensorflow as tf\n",
        "import os\n",
        "\n",
        "from tensorflow.keras import datasets, layers, models\n",
        "from tensorflow.keras.preprocessing.image import ImageDataGenerator\n",
        "import matplotlib.pyplot as plt"
      ]
    },
    {
      "cell_type": "markdown",
      "source": [
        "## Load dataset"
      ],
      "metadata": {
        "id": "53CtGaV-f45K"
      }
    },
    {
      "cell_type": "code",
      "source": [
        "from google.colab import drive\n",
        "drive.mount('/content/drive')\n"
      ],
      "metadata": {
        "id": "BHPVoZLYfumn"
      },
      "execution_count": null,
      "outputs": []
    },
    {
      "cell_type": "code",
      "source": [
        "data_dir = \"/content/drive/MyDrive/chest_xray\""
      ],
      "metadata": {
        "id": "0pXVBVO1kCLc"
      },
      "execution_count": null,
      "outputs": []
    },
    {
      "cell_type": "code",
      "source": [
        "train_datagen = ImageDataGenerator(rescale=1./255)"
      ],
      "metadata": {
        "id": "RxfEye5_gkcW"
      },
      "execution_count": null,
      "outputs": []
    },
    {
      "cell_type": "code",
      "source": [
        "train_gen = train_datagen.flow_from_directory(\n",
        "    f\"{data_dir}/train\", target_size=(150,150), class_mode='binary', batch_size=32\n",
        ")\n"
      ],
      "metadata": {
        "id": "SwJe0RKjftur"
      },
      "execution_count": null,
      "outputs": []
    },
    {
      "cell_type": "code",
      "source": [
        "test_gen = train_datagen.flow_from_directory(\n",
        "    directory=f\"{data_dir}/test\",\n",
        "    target_size=(150, 150),\n",
        "    class_mode='binary',\n",
        "    batch_size=32,\n",
        ")"
      ],
      "metadata": {
        "id": "00C_t8k5k3Sg"
      },
      "execution_count": null,
      "outputs": []
    },
    {
      "cell_type": "markdown",
      "source": [
        "## Verify the data\n",
        "\n",
        "To verify that the dataset looks correct, let's plot the first 25 images from the training set and display the class name below each image:"
      ],
      "metadata": {
        "id": "yFF-mV8QfXRq"
      }
    },
    {
      "cell_type": "code",
      "source": [
        "\n",
        "class_names = ['NORMAL', 'PNEUMONIA']\n",
        "\n",
        "# Get 25 sample images from the training generator\n",
        "images, labels = next(train_gen)\n",
        "\n",
        "plt.figure(figsize=(10,10))\n",
        "for i in range(25):\n",
        "    plt.subplot(5,5,i+1)\n",
        "    plt.xticks([])\n",
        "    plt.yticks([])\n",
        "    plt.grid(False)\n",
        "    plt.imshow(images[i])\n",
        "    label = int(labels[i])\n",
        "    plt.xlabel(class_names[label])\n",
        "plt.show()\n"
      ],
      "metadata": {
        "colab": {
          "base_uri": "https://localhost:8080/",
          "height": 211
        },
        "id": "CjvLvKmvfHt1",
        "outputId": "31c82f5d-5ace-43a2-a2ca-22ce0944e9ad"
      },
      "execution_count": 1,
      "outputs": [
        {
          "output_type": "error",
          "ename": "NameError",
          "evalue": "name 'train_gen' is not defined",
          "traceback": [
            "\u001b[0;31m---------------------------------------------------------------------------\u001b[0m",
            "\u001b[0;31mNameError\u001b[0m                                 Traceback (most recent call last)",
            "\u001b[0;32m/tmp/ipython-input-2808408768.py\u001b[0m in \u001b[0;36m<cell line: 0>\u001b[0;34m()\u001b[0m\n\u001b[1;32m      2\u001b[0m \u001b[0;34m\u001b[0m\u001b[0m\n\u001b[1;32m      3\u001b[0m \u001b[0;31m# Get 25 sample images from the training generator\u001b[0m\u001b[0;34m\u001b[0m\u001b[0;34m\u001b[0m\u001b[0m\n\u001b[0;32m----> 4\u001b[0;31m \u001b[0mimages\u001b[0m\u001b[0;34m,\u001b[0m \u001b[0mlabels\u001b[0m \u001b[0;34m=\u001b[0m \u001b[0mnext\u001b[0m\u001b[0;34m(\u001b[0m\u001b[0mtrain_gen\u001b[0m\u001b[0;34m)\u001b[0m\u001b[0;34m\u001b[0m\u001b[0;34m\u001b[0m\u001b[0m\n\u001b[0m\u001b[1;32m      5\u001b[0m \u001b[0;34m\u001b[0m\u001b[0m\n\u001b[1;32m      6\u001b[0m \u001b[0mplt\u001b[0m\u001b[0;34m.\u001b[0m\u001b[0mfigure\u001b[0m\u001b[0;34m(\u001b[0m\u001b[0mfigsize\u001b[0m\u001b[0;34m=\u001b[0m\u001b[0;34m(\u001b[0m\u001b[0;36m10\u001b[0m\u001b[0;34m,\u001b[0m\u001b[0;36m10\u001b[0m\u001b[0;34m)\u001b[0m\u001b[0;34m)\u001b[0m\u001b[0;34m\u001b[0m\u001b[0;34m\u001b[0m\u001b[0m\n",
            "\u001b[0;31mNameError\u001b[0m: name 'train_gen' is not defined"
          ]
        }
      ]
    },
    {
      "cell_type": "code",
      "source": [
        "from collections import Counter\n",
        "def count_classes(folder):\n",
        "    normal = len(os.listdir(f\"{folder}/NORMAL\"))\n",
        "    pneumonia = len(os.listdir(f\"{folder}/PNEUMONIA\"))\n",
        "    return {'NORMAL': normal, 'PNEUMONIA': pneumonia}\n",
        "\n",
        "print(\"Train:\", count_classes(f\"{data_dir}/train\"))\n",
        "print(\"Test:\", count_classes(f\"{data_dir}/test\"))"
      ],
      "metadata": {
        "id": "nXP9NwwefJPO"
      },
      "execution_count": null,
      "outputs": []
    },
    {
      "cell_type": "markdown",
      "source": [
        "## Create the convolutional base"
      ],
      "metadata": {
        "id": "RNgHs6IumjUR"
      }
    },
    {
      "cell_type": "code",
      "source": [
        "model = models.Sequential()\n",
        "model.add(layers.Conv2D(32, (3, 3), activation='relu', input_shape=(32, 32, 3)))\n",
        "model.add(layers.MaxPooling2D((2, 2)))\n",
        "model.add(layers.Conv2D(64, (3, 3), activation='relu'))\n",
        "model.add(layers.MaxPooling2D((2, 2)))\n",
        "model.add(layers.Conv2D(64, (3, 3), activation='relu'))"
      ],
      "metadata": {
        "id": "_CzWkJkmmleT"
      },
      "execution_count": null,
      "outputs": []
    },
    {
      "cell_type": "markdown",
      "source": [
        "Let's display the architecture of your model so far:"
      ],
      "metadata": {
        "id": "MPRv5LkimzCR"
      }
    },
    {
      "cell_type": "code",
      "source": [
        "model.summary()"
      ],
      "metadata": {
        "id": "Oz0uSXpDmz7l"
      },
      "execution_count": null,
      "outputs": []
    },
    {
      "cell_type": "markdown",
      "source": [
        "##  Add Dense layers on top"
      ],
      "metadata": {
        "id": "ri54V0kim9R-"
      }
    },
    {
      "cell_type": "code",
      "source": [
        "model.add(layers.Flatten())\n",
        "model.add(layers.Dense(64, activation='relu'))\n",
        "model.add(layers.Dense(10))"
      ],
      "metadata": {
        "id": "cy20oKkLm-bx"
      },
      "execution_count": null,
      "outputs": []
    },
    {
      "cell_type": "markdown",
      "source": [
        "Here's the complete architecture of your model:"
      ],
      "metadata": {
        "id": "F_SeAKtJnEzm"
      }
    },
    {
      "cell_type": "code",
      "source": [
        "model.summary()"
      ],
      "metadata": {
        "id": "JFHz1h1HnFp4"
      },
      "execution_count": null,
      "outputs": []
    },
    {
      "cell_type": "markdown",
      "source": [
        "## Compile & Train"
      ],
      "metadata": {
        "id": "wsfe4VVSnmle"
      }
    },
    {
      "cell_type": "code",
      "source": [
        "model.compile(optimizer='adam', loss=tf.keras.losses.SparseCategoricalCrossentropy(from_logits=True), metrics=['accuracy'])\n",
        "\n",
        "history = model.fit(train_gen, validation_data=test_gen, epochs=10)"
      ],
      "metadata": {
        "id": "FByj9W8anUrZ"
      },
      "execution_count": null,
      "outputs": []
    },
    {
      "cell_type": "markdown",
      "source": [
        "## Evaluation"
      ],
      "metadata": {
        "id": "rlf0AOTisB63"
      }
    },
    {
      "cell_type": "markdown",
      "source": [
        "Metrics + Confusion Matrix"
      ],
      "metadata": {
        "id": "SALmio4VsEU2"
      }
    },
    {
      "cell_type": "code",
      "source": [
        "from sklearn.metrics import classification_report, confusion_matrix\n",
        "import numpy as np\n",
        "import seaborn as sns\n",
        "\n",
        "preds = model.predict(test_gen)\n",
        "y_pred = (preds > 0.5).astype(int)\n",
        "y_true = test_gen.classes\n",
        "\n",
        "print(classification_report(y_true, y_pred, target_names=['NORMAL', 'PNEUMONIA']))\n",
        "\n",
        "cm = confusion_matrix(y_true, y_pred)\n",
        "sns.heatmap(cm, annot=True, fmt='d', xticklabels=['NORMAL', 'PNEUMONIA'], yticklabels=['NORMAL', 'PNEUMONIA'])\n"
      ],
      "metadata": {
        "id": "v2PrzXaDr-OM"
      },
      "execution_count": null,
      "outputs": []
    },
    {
      "cell_type": "markdown",
      "source": [
        "Training Curves"
      ],
      "metadata": {
        "id": "I-weJWWksJ77"
      }
    },
    {
      "cell_type": "code",
      "source": [
        "plt.plot(history.history['accuracy'], label='train acc')\n",
        "plt.plot(history.history['val_accuracy'], label='val acc')\n",
        "plt.plot(history.history['loss'], label='train loss')\n",
        "plt.plot(history.history['val_loss'], label='val loss')\n",
        "plt.legend()\n",
        "plt.show()"
      ],
      "metadata": {
        "id": "xKjN7rrWsL5b"
      },
      "execution_count": null,
      "outputs": []
    },
    {
      "cell_type": "markdown",
      "source": [
        "## Interpretation & Conclusion"
      ],
      "metadata": {
        "id": "TCmqroDOsSvg"
      }
    },
    {
      "cell_type": "code",
      "source": [],
      "metadata": {
        "id": "VYohV4ezsUqW"
      },
      "execution_count": null,
      "outputs": []
    }
  ],
  "metadata": {
    "kernelspec": {
      "display_name": "Python 3",
      "name": "python3"
    },
    "language_info": {
      "name": "python",
      "version": "3.13.5"
    },
    "colab": {
      "provenance": []
    }
  },
  "nbformat": 4,
  "nbformat_minor": 0
}